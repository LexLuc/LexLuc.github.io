{
 "cells": [
  {
   "cell_type": "markdown",
   "metadata": {},
   "source": [
    "# Basic Usage"
   ]
  },
  {
   "cell_type": "code",
   "execution_count": 1,
   "metadata": {},
   "outputs": [],
   "source": [
    "import numpy as np\n",
    "\n",
    "M = 5\n",
    "N = 6"
   ]
  },
  {
   "cell_type": "markdown",
   "metadata": {},
   "source": [
    "## 1. Initialize array"
   ]
  },
  {
   "cell_type": "markdown",
   "metadata": {},
   "source": [
    "### 1.1 Convert a Python list into np.ndarray"
   ]
  },
  {
   "cell_type": "code",
   "execution_count": 2,
   "metadata": {},
   "outputs": [
    {
     "name": "stdout",
     "output_type": "stream",
     "text": [
      "[0 1 2 3 4]\n",
      "shape: (5,) (1 dimention\n",
      "data type: int32)\n"
     ]
    },
    {
     "data": {
      "text/plain": [
       "(5,)"
      ]
     },
     "execution_count": 2,
     "metadata": {},
     "output_type": "execute_result"
    }
   ],
   "source": [
    "# create a 1-dimentional array from python list:\n",
    "\n",
    "arr = np.array([e for e in range(M)], dtype='i4')\n",
    "print(arr); print('shape: {} ({} dimention\\ndata type: {})'.format(arr.shape, arr.ndim, arr.dtype))\n",
    "arr.shape"
   ]
  },
  {
   "cell_type": "markdown",
   "metadata": {},
   "source": [
    "### 1.2 Using np.arange() np.linespace()"
   ]
  },
  {
   "cell_type": "markdown",
   "metadata": {},
   "source": [
    "Akin to `range` in Python, `arange` in NumPy returns a sequence of numbers in an ndarray. Use the `dtype` parameter to change the type, or use `astype()` function to cast into another type."
   ]
  },
  {
   "cell_type": "code",
   "execution_count": 3,
   "metadata": {},
   "outputs": [
    {
     "name": "stdout",
     "output_type": "stream",
     "text": [
      "[ 0.   0.2  0.4  0.6  0.8]\n",
      "shape: 5 (1 dimention)\n"
     ]
    }
   ],
   "source": [
    "# create a 5-dimention vector with interval of 0.2\n",
    "\n",
    "arr = np.arange(0., 1., .2)\n",
    "print(arr); print('shape: {} ({} dimention)'.format(arr.shape[0], arr.ndim))\n"
   ]
  },
  {
   "cell_type": "markdown",
   "metadata": {},
   "source": [
    "However, due to the finite precision of floating point numbersit's better to use `linspace` when we are trying to create a sequence of floating point numbers, specifying how many elements we want, instead of the step."
   ]
  },
  {
   "cell_type": "code",
   "execution_count": 4,
   "metadata": {},
   "outputs": [
    {
     "name": "stdout",
     "output_type": "stream",
     "text": [
      "[ 0.          0.33333333  0.66666667]\n",
      "shape: 3 (1 dimention)\n"
     ]
    }
   ],
   "source": [
    "# create a 5-dimention vector with interval of 0.2\n",
    "\n",
    "arr = np.linspace(0., 1., 3, endpoint=False)\n",
    "print(arr); print('shape: {} ({} dimention)'.format(arr.shape[0], arr.ndim))\n"
   ]
  },
  {
   "cell_type": "markdown",
   "metadata": {},
   "source": [
    "### 1.3 Other methods of initializing an array"
   ]
  },
  {
   "cell_type": "code",
   "execution_count": 5,
   "metadata": {
    "scrolled": true
   },
   "outputs": [
    {
     "name": "stdout",
     "output_type": "stream",
     "text": [
      "[[ 0.  0.]\n",
      " [ 0.  0.]]\n",
      "shape: 2 × 2\n",
      "data type: float64\n",
      "\n",
      "[[ 1.  1.]\n",
      " [ 1.  1.]]\n",
      "shape: 2 × 2\n",
      "data type: float64\n",
      "\n",
      "[[ 0.  0.]\n",
      " [ 0.  0.]]\n",
      "shape: 2 × 2\n",
      "data type: float64\n",
      "\n",
      "[[666 666]\n",
      " [666 666]]\n",
      "shape: 2 × 2\n",
      "data type: int32\n",
      "\n"
     ]
    }
   ],
   "source": [
    "# create a 2 × 2 matrix all filled by 0s, 1s or any other numbers\n",
    "\n",
    "arr = np.zeros((2, 2))\n",
    "print(arr); print('shape: {} × {}'.format(arr.shape[0], arr.shape[1])); print('data type: {}'.format(arr.dtype), end='\\n\\n')\n",
    "\n",
    "arr = np.ones((2, 2))\n",
    "print(arr); print('shape: {} × {}'.format(arr.shape[0], arr.shape[1])); print('data type: {}'.format(arr.dtype), end='\\n\\n')\n",
    "\n",
    "arr = np.empty((2, 2))\n",
    "print(arr); print('shape: {} × {}'.format(arr.shape[0], arr.shape[1])); print('data type: {}'.format(arr.dtype), end='\\n\\n')\n",
    "\n",
    "arr = np.full((2, 2), 666)\n",
    "print(arr); print('shape: {} × {}'.format(arr.shape[0], arr.shape[1])); print('data type: {}'.format(arr.dtype), end='\\n\\n')\n"
   ]
  },
  {
   "cell_type": "markdown",
   "metadata": {},
   "source": [
    "Besides of `arr.dtype` and `arr.shape`, there are other useful attributes like:\n",
    "* `arr.ndim`: the dimension of the ndarray. E.g. 1 for a vector and 2 for a matrix.\n",
    "* `arr.size`: the total number of elements in such ndarray.\n",
    "\n",
    "**Note**: The default data type is `float64` for float numbers and `int32` for integers."
   ]
  },
  {
   "cell_type": "code",
   "execution_count": 6,
   "metadata": {},
   "outputs": [
    {
     "name": "stdout",
     "output_type": "stream",
     "text": [
      "[[ 1.  0.  0.]\n",
      " [ 0.  1.  0.]\n",
      " [ 0.  0.  1.]]\n",
      "shape: 3 × 3\n",
      "\n"
     ]
    }
   ],
   "source": [
    "# create a rank-3 identity matrix\n",
    "\n",
    "arr = np.eye(3)\n",
    "print(arr); print('shape: {} × {}'.format(arr.shape[0], arr.shape[1]), end='\\n\\n')\n"
   ]
  },
  {
   "cell_type": "code",
   "execution_count": 7,
   "metadata": {},
   "outputs": [
    {
     "data": {
      "text/plain": [
       "array([[ 0.13753289,  0.84871315],\n",
       "       [ 0.84389689,  0.5721049 ],\n",
       "       [ 0.23855836,  0.25691341]])"
      ]
     },
     "execution_count": 7,
     "metadata": {},
     "output_type": "execute_result"
    }
   ],
   "source": [
    "# randomly create a matrix consists of floats in the half-open interval [0.0, 1.0):\n",
    "\n",
    "np.random.random((3, 2))"
   ]
  },
  {
   "cell_type": "markdown",
   "metadata": {},
   "source": [
    "To find out more about **Array Creation**, see [official document for numpy *array creation*](<http://docs.scipy.org/doc/numpy/user/basics.creation.html#arrays-creation>)"
   ]
  },
  {
   "cell_type": "markdown",
   "metadata": {},
   "source": [
    "## 2. Reshape an ndarray"
   ]
  },
  {
   "cell_type": "code",
   "execution_count": 8,
   "metadata": {},
   "outputs": [
    {
     "name": "stdout",
     "output_type": "stream",
     "text": [
      "[[ 0  1  2  3  4  5]\n",
      " [ 6  7  8  9 10 11]\n",
      " [12 13 14 15 16 17]\n",
      " [18 19 20 21 22 23]\n",
      " [24 25 26 27 28 29]]\n",
      "shape: 5 × 6\n",
      "\n"
     ]
    }
   ],
   "source": [
    "# 2-dimentional array:\n",
    "\n",
    "arr = np.array([ [e+r for e in range(N)] for r in range(0, M*N, N)])\n",
    "print(arr); print('shape: {} × {}'.format(arr.shape[0], arr.shape[1]), end='\\n\\n')"
   ]
  },
  {
   "cell_type": "markdown",
   "metadata": {},
   "source": [
    "The `arr.reshape()` method returns a new `ndarray` with the shape changed without modifying the original one."
   ]
  },
  {
   "cell_type": "code",
   "execution_count": 9,
   "metadata": {},
   "outputs": [
    {
     "name": "stdout",
     "output_type": "stream",
     "text": [
      "[[ 0  1  2  3  4  5  6  7  8  9 10 11 12 13 14]\n",
      " [15 16 17 18 19 20 21 22 23 24 25 26 27 28 29]]\n",
      "shape: 2 × 15\n",
      "\n"
     ]
    }
   ],
   "source": [
    "# reshape arr to 2 × 15 and save it to a new_arr\n",
    "\n",
    "new_arr = arr.reshape(2, 15)\n",
    "print(new_arr); print('shape: {} × {}'.format(new_arr.shape[0], new_arr.shape[1]), end='\\n\\n')"
   ]
  },
  {
   "cell_type": "markdown",
   "metadata": {},
   "source": [
    "To change the shape of the original `ndarray`, modify `arr.shape` directely"
   ]
  },
  {
   "cell_type": "code",
   "execution_count": 10,
   "metadata": {},
   "outputs": [
    {
     "name": "stdout",
     "output_type": "stream",
     "text": [
      "[[ 0  1  2  3  4]\n",
      " [ 5  6  7  8  9]\n",
      " [10 11 12 13 14]\n",
      " [15 16 17 18 19]\n",
      " [20 21 22 23 24]\n",
      " [25 26 27 28 29]]\n",
      "shape: 6 × 5\n",
      "\n"
     ]
    }
   ],
   "source": [
    "# reshape the original arr to 6 × 5:\n",
    "\n",
    "arr.shape = (N, M)\n",
    "print(arr); print('shape: {} × {}'.format(arr.shape[0], arr.shape[1]), end='\\n\\n')"
   ]
  },
  {
   "cell_type": "code",
   "execution_count": 11,
   "metadata": {},
   "outputs": [
    {
     "name": "stdout",
     "output_type": "stream",
     "text": [
      "[[[0 1 2 3 4 5]]]\n",
      "shape: 1 × 1 × 6\n"
     ]
    }
   ],
   "source": [
    "# specify minimum dimention of the array:\n",
    "\n",
    "arr = np.array([e for e in range(N)], ndmin=3)\n",
    "print(arr); print('shape: {} × {} × {}'.format(arr.shape[0], arr.shape[1], arr.shape[2]))"
   ]
  },
  {
   "cell_type": "markdown",
   "metadata": {},
   "source": [
    "## 3. Data type object"
   ]
  },
  {
   "cell_type": "code",
   "execution_count": 12,
   "metadata": {},
   "outputs": [
    {
     "name": "stdout",
     "output_type": "stream",
     "text": [
      "[ 0.+0.j  1.+0.j  2.+0.j  3.+0.j  4.+0.j  5.+0.j]\n"
     ]
    }
   ],
   "source": [
    "# specify dtype as complex number:\n",
    "\n",
    "arr = np.array([e for e in range(N)], dtype=complex)\n",
    "print(arr)"
   ]
  },
  {
   "cell_type": "markdown",
   "metadata": {},
   "source": [
    "In addition, numpy also support a great variety of numercal types:\n",
    "\n",
    "`bool_` (boolean type stored as 1 byte)\n",
    "\n",
    "`int_`  (long type in C)\n",
    "\n",
    "`intc_` (int type in C)\n",
    "\n",
    "`intp`  (ssize_t in C)\n",
    "\n",
    "`int8`  (int8_t in C)\n",
    "\n",
    "`int16` (int16_t in C)\n",
    "\n",
    "`int32` (int32_t in C)\n",
    "\n",
    "`int64` (int64_t in C)\n",
    "\n",
    "`uint16` (uint16 in C)\n",
    "\n",
    "...\n",
    "\n",
    "`uint64` (uint64 in C)\n",
    "\n",
    "`float16` (half precision float: 1 sign bit, 5-bit exponent, 10-bit mantissa)\n",
    "\n",
    "`float32` (single precision float: 1 sign bit, 8-bit exponent, 23-bit mantissa)\n",
    "\n",
    "`float64` (double precision float: 1 sign bit, 11-bit exponent, 52-bit mantissa)\n",
    "\n",
    "`float_` (shorthand of float64)\n",
    "\n",
    "`complex64`  (complex number, represented by two 32-bit floats)\n",
    "\n",
    "`complex128` (complex number, represented by two 64-bit floats)"
   ]
  },
  {
   "cell_type": "code",
   "execution_count": 13,
   "metadata": {},
   "outputs": [
    {
     "data": {
      "text/plain": [
       "dtype('int32')"
      ]
     },
     "execution_count": 13,
     "metadata": {},
     "output_type": "execute_result"
    }
   ],
   "source": [
    "# array scalar type:\n",
    "\n",
    "dt = np.dtype(np.int32)\n",
    "dt"
   ]
  },
  {
   "cell_type": "code",
   "execution_count": 14,
   "metadata": {},
   "outputs": [
    {
     "data": {
      "text/plain": [
       "(dtype('int8'),\n",
       " dtype('int8'),\n",
       " dtype('int16'),\n",
       " dtype('int32'),\n",
       " dtype('int64'),\n",
       " dtype('float16'),\n",
       " dtype('float32'),\n",
       " dtype('complex64'),\n",
       " dtype('complex128'),\n",
       " dtype('uint8'),\n",
       " dtype('<U'),\n",
       " dtype('S10'),\n",
       " dtype('S20'),\n",
       " dtype('<m8'),\n",
       " dtype('<M8'),\n",
       " dtype('O'),\n",
       " dtype('V'))"
      ]
     },
     "execution_count": 14,
     "metadata": {},
     "output_type": "execute_result"
    }
   ],
   "source": [
    "# \"int8, int16, int32, int64\" can be replaced \n",
    "# by equivalent string 'i1', 'i2', 'i4', 'i8', etc. number means #bytes\n",
    "\n",
    "dt0 = np.dtype('b')\n",
    "dt1 = np.dtype('i1'); dt2 = np.dtype('i2'); dt3 = np.dtype('i4'); dt4 = np.dtype('i8') # integer\n",
    "dt5 = np.dtype('f2'); dt6 = np.dtype('f4')    # float number\n",
    "dt7 = np.dtype('c8'); dt8 = np.dtype('c16')   # complex number\n",
    "dt9 = np.dtype('u1'); dt10= np.dtype('U')     # unsigned integer / unicode\n",
    "dt11= np.dtype('a10');dt12= np.dtype('S20')   # fix-sized byte string\n",
    "dt13= np.dtype('m');  dt14= np.dtype('M')     # timedelta / datetime\n",
    "dt15= np.dtype('O');  dt16= np.dtype('V')     # python object / void\n",
    "dt0, dt1, dt2, dt3, dt4, dt5, dt6, dt7, dt8, dt9, dt10, dt11, dt12, dt13, dt14, dt15, dt16"
   ]
  },
  {
   "cell_type": "code",
   "execution_count": 15,
   "metadata": {},
   "outputs": [
    {
     "data": {
      "text/plain": [
       "dtype('>i4')"
      ]
     },
     "execution_count": 15,
     "metadata": {},
     "output_type": "execute_result"
    }
   ],
   "source": [
    "# '>' means big endian, vice versa；\n",
    "\n",
    "dt = np.dtype('>i4')\n",
    "dt"
   ]
  },
  {
   "cell_type": "code",
   "execution_count": 16,
   "metadata": {},
   "outputs": [
    {
     "data": {
      "text/plain": [
       "dtype([('age', 'i1')])"
      ]
     },
     "execution_count": 16,
     "metadata": {},
     "output_type": "execute_result"
    }
   ],
   "source": [
    "# specify user-defined data type \"age\" as int8:\n",
    "\n",
    "dt_age = np.dtype([('age', np.int8)])\n",
    "dt_age"
   ]
  },
  {
   "cell_type": "code",
   "execution_count": 17,
   "metadata": {},
   "outputs": [
    {
     "data": {
      "text/plain": [
       "array([(10,), (20,), (30,)], \n",
       "      dtype=[('age', 'i1')])"
      ]
     },
     "execution_count": 17,
     "metadata": {},
     "output_type": "execute_result"
    }
   ],
   "source": [
    "dt_age = np.dtype([('age', np.int8)])\n",
    "arr = np.array([(10,), (20,), (30,)], dtype = dt_age)\n",
    "arr"
   ]
  },
  {
   "cell_type": "code",
   "execution_count": 18,
   "metadata": {},
   "outputs": [
    {
     "data": {
      "text/plain": [
       "array([10, 20, 30], dtype=int8)"
      ]
     },
     "execution_count": 18,
     "metadata": {},
     "output_type": "execute_result"
    }
   ],
   "source": [
    "# file name can be used to access content of age column \n",
    "\n",
    "dt_age = np.dtype([('age',np.int8)]) \n",
    "arr = np.array([(10,),(20,),(30,)], dtype = dt_age) \n",
    "arr['age']"
   ]
  },
  {
   "cell_type": "code",
   "execution_count": 19,
   "metadata": {
    "scrolled": true
   },
   "outputs": [
    {
     "name": "stdout",
     "output_type": "stream",
     "text": [
      "[(b'Lex', 24,  78. ) (b'Scarlet', 22,  80.5)] \n",
      "\n",
      "ID:\t0\n",
      "Names:\tLex\n",
      "Ages:\t24\n",
      "\n",
      "ID:\t1\n",
      "Names:\tScarlet\n",
      "Ages:\t22\n",
      "\n"
     ]
    }
   ],
   "source": [
    "studentType = np.dtype([('name', 'S20'), ('age', 'i1'), ('marks', 'f4')])\n",
    "students = np.array([('Lex', 24, 78.0), ('Scarlet', 22, 80.5)], dtype = studentType)\n",
    "print(students, '\\n')\n",
    "for i in range(len(students)):\n",
    "    print('ID:\\t{}'.format(i))\n",
    "    print('Names:\\t{}'.format(students['name'][i].decode('utf-8')))\n",
    "    print('Ages:\\t{}\\n'.format(students['age'][i]))"
   ]
  },
  {
   "cell_type": "markdown",
   "metadata": {},
   "source": [
    "To find out more about **data types** in numpy, see [offcial document for numpy *dtype*](http://docs.scipy.org/doc/numpy/reference/arrays.dtypes.html)"
   ]
  },
  {
   "cell_type": "markdown",
   "metadata": {},
   "source": [
    "## Array Indexing"
   ]
  },
  {
   "cell_type": "code",
   "execution_count": 20,
   "metadata": {},
   "outputs": [
    {
     "name": "stdout",
     "output_type": "stream",
     "text": [
      "[[ 0  1  2  3  4  5]\n",
      " [ 6  7  8  9 10 11]\n",
      " [12 13 14 15 16 17]\n",
      " [18 19 20 21 22 23]\n",
      " [24 25 26 27 28 29]]\n",
      "shape: 5 × 6\n",
      "\n"
     ]
    }
   ],
   "source": [
    "# make an 2D array:\n",
    "\n",
    "arr = np.array([[e+r for e in range(N)] for r in range(0, M*N, N)])\n",
    "print(arr); print('shape: {} × {}'.format(arr.shape[0], arr.shape[1]), end='\\n\\n')"
   ]
  },
  {
   "cell_type": "code",
   "execution_count": 21,
   "metadata": {},
   "outputs": [
    {
     "name": "stdout",
     "output_type": "stream",
     "text": [
      "[[24 25 26 27 28 29]]\n",
      "shape: 0 × 6\n",
      "\n",
      "[[ 5]\n",
      " [11]\n",
      " [17]\n",
      " [23]\n",
      " [29]]\n",
      "shape: 5 × 1\n",
      "\n",
      "[[ 0  2  4]\n",
      " [ 6  8 10]]\n",
      "shape: 2 × 3\n",
      "\n"
     ]
    }
   ],
   "source": [
    "# slicing:\n",
    "\n",
    "print(arr[4:5, :]);  print('shape: {} × {}'.format(arr[5:6, :].shape[0], arr[5:6, :].shape[1]), end='\\n\\n')\n",
    "print(arr[:, 5:6]);  print('shape: {} × {}'.format(arr[:, 5:6].shape[0], arr[:, 5:6].shape[1]), end='\\n\\n')\n",
    "print(arr[:2, 0:5:2]); print('shape: {} × {}'.format(arr[:2, 1:4].shape[0], arr[:2, 1:4].shape[1]), end='\\n\\n')"
   ]
  },
  {
   "cell_type": "code",
   "execution_count": 22,
   "metadata": {},
   "outputs": [
    {
     "name": "stdout",
     "output_type": "stream",
     "text": [
      "True\n",
      "True\n"
     ]
    }
   ],
   "source": [
    "# slicing with ellipsis:\n",
    "\n",
    "print(id(arr[..., 0]) == id(arr[:, 0]))\n",
    "print(id(arr[0, ...]) == id(arr[0, :]))"
   ]
  },
  {
   "cell_type": "code",
   "execution_count": 23,
   "metadata": {},
   "outputs": [
    {
     "name": "stdout",
     "output_type": "stream",
     "text": [
      "(5, 1, 6)\n",
      "(1, 5, 6)\n",
      "(5, 6, 1)\n"
     ]
    }
   ],
   "source": [
    "# add axis\n",
    "\n",
    "print(arr[:, np.newaxis, :].shape)\n",
    "print(arr[np.newaxis, :, :].shape)\n",
    "print(arr[:, :, np.newaxis].shape)"
   ]
  },
  {
   "cell_type": "code",
   "execution_count": 24,
   "metadata": {},
   "outputs": [
    {
     "name": "stdout",
     "output_type": "stream",
     "text": [
      "arr[3, 3] == arr[3][3] ? True\n",
      "[ arr[0, 0]  arr[4][4]  arr[2][3] ] == [ 0 28 15]\n"
     ]
    }
   ],
   "source": [
    "# integer array indexing:\n",
    "\n",
    "print('arr[3, 3] == arr[3][3] ?', \n",
    "      id(arr[3, 3]) == id(arr[3][3]))\n",
    "\n",
    "print('[ arr[0, 0]  arr[4][4]  arr[2][3] ]', \n",
    "      '==', \n",
    "      arr[[0, 4, 2], [0, 4, 3]])"
   ]
  },
  {
   "cell_type": "code",
   "execution_count": 25,
   "metadata": {},
   "outputs": [
    {
     "name": "stdout",
     "output_type": "stream",
     "text": [
      "Rank 2 view: [[24 25 26 27 28 29]]\n",
      "shape: (1, 6)\n",
      "\n",
      "Rank 1 view: [24 25 26 27 28 29]\n",
      "shpap: (6,)\n",
      "\n"
     ]
    }
   ],
   "source": [
    "# mixing of slice indexing and integer indexing:\n",
    "\n",
    "# for instance, we need all elements in row 4:\n",
    "#   there are 2 different ways (but with slightly different outcome):\n",
    "\n",
    "#   1. slicing purely:\n",
    "print('Rank 2 view:', arr[4:5, :]); print('shape: {}'.format( arr[4:5, :].shape ), end='\\n\\n')\n",
    "\n",
    "#   2. integer indexing (with lower rank):\n",
    "print('Rank 1 view:', arr[4  , :]); print('shpap: {}'.format( arr[4  , :].shape ), end='\\n\\n')"
   ]
  },
  {
   "cell_type": "code",
   "execution_count": 26,
   "metadata": {},
   "outputs": [
    {
     "data": {
      "text/plain": [
       "array([28, 21, 14,  0,  7])"
      ]
     },
     "execution_count": 26,
     "metadata": {},
     "output_type": "execute_result"
    }
   ],
   "source": [
    "# one trick of using integer indexing:\n",
    "\n",
    "index_x = index_y = np.arange(min(M, N))\n",
    "np.random.shuffle(index_y)\n",
    "\n",
    "# show one element in each row specified by index_y,\n",
    "#   i.e. arr[x0, y0], arr[x1, y1], arr[x2, y2], arr[x3, y3], ...:\n",
    "arr[index_y, index_x]"
   ]
  },
  {
   "cell_type": "code",
   "execution_count": 27,
   "metadata": {},
   "outputs": [
    {
     "name": "stdout",
     "output_type": "stream",
     "text": [
      "[[False False False False False False]\n",
      " [ True  True  True  True  True  True]\n",
      " [ True  True  True  True  True  True]\n",
      " [ True  True  True  True  True  True]\n",
      " [ True  True  True  True  True  True]]\n",
      "[ 6  7  8  9 10 11 12 13 14 15 16 17 18 19 20 21 22 23 24 25 26 27 28 29]\n",
      "[ 6  7  8  9 10 11 12 13 14 15 16 17 18 19 20 21 22 23 24 25 26 27 28 29]\n"
     ]
    }
   ],
   "source": [
    "# boolean indexing:\n",
    "\n",
    "bool_arr = (arr > 5)\n",
    "print(bool_arr)\n",
    "\n",
    "# we can utilize such an array to generate a rank-1 array\n",
    "# s.t. all the elements in that array will correspond to the \"True\" values of bool_arr:\n",
    "\n",
    "print(arr[bool_arr]); del bool_arr\n",
    "\n",
    "\n",
    "# in practice, just type:\n",
    "print(arr[arr > 5])"
   ]
  },
  {
   "cell_type": "markdown",
   "metadata": {},
   "source": [
    "To find out more about numpy **indexing**, see [official document for numpy indexing](http://docs.scipy.org/doc/numpy/reference/arrays.indexing.html)"
   ]
  },
  {
   "cell_type": "markdown",
   "metadata": {},
   "source": [
    "## Array math"
   ]
  },
  {
   "cell_type": "code",
   "execution_count": 28,
   "metadata": {},
   "outputs": [
    {
     "name": "stdout",
     "output_type": "stream",
     "text": [
      "A =\n",
      "[[ 0  1  2  3  4  5]\n",
      " [ 6  7  8  9 10 11]\n",
      " [12 13 14 15 16 17]\n",
      " [18 19 20 21 22 23]\n",
      " [24 25 26 27 28 29]]\n",
      "\n",
      "B =\n",
      "[[1 1 1 1 1 1]\n",
      " [1 1 1 1 1 1]\n",
      " [1 1 1 1 1 1]\n",
      " [1 1 1 1 1 1]\n",
      " [1 1 1 1 1 1]]\n",
      "\n",
      "C =\n",
      "[[1 0 0 0 0 0]\n",
      " [0 1 0 0 0 0]\n",
      " [0 0 1 0 0 0]\n",
      " [0 0 0 1 0 0]\n",
      " [0 0 0 0 1 0]]\n",
      "\n",
      "X = [[2 2 2 2 2 2]]\n",
      "\n",
      "Y = [[0 1 2 3 4 5]]\n",
      "\n"
     ]
    }
   ],
   "source": [
    "# create matrices:\n",
    "\n",
    "A = np.array([[e+r for e in range(N)] for r in range(0, M*N, N)])\n",
    "B = np.ones((M, N), dtype='i4')\n",
    "C = np.eye(M, N, dtype='i4')\n",
    "\n",
    "X = np.array([2 for _ in range(N)], ndmin=2)\n",
    "Y = np.array([e for e in range(N)], ndmin=2)\n",
    "\n",
    "print('A =\\n{}'.format(A), end='\\n\\n')\n",
    "print('B =\\n{}'.format(B), end='\\n\\n')\n",
    "print('C =\\n{}'.format(C), end='\\n\\n')\n",
    "\n",
    "print('X = {}'.format(X), end='\\n\\n')\n",
    "print('Y = {}'.format(Y), end='\\n\\n')"
   ]
  },
  {
   "cell_type": "code",
   "execution_count": 29,
   "metadata": {
    "scrolled": true
   },
   "outputs": [
    {
     "name": "stdout",
     "output_type": "stream",
     "text": [
      "A + C =\n",
      "[[ 1  1  2  3  4  5]\n",
      " [ 6  8  8  9 10 11]\n",
      " [12 13 15 15 16 17]\n",
      " [18 19 20 22 22 23]\n",
      " [24 25 26 27 29 29]]\n",
      "\n",
      "B + C =\n",
      "[[2 1 1 1 1 1]\n",
      " [1 2 1 1 1 1]\n",
      " [1 1 2 1 1 1]\n",
      " [1 1 1 2 1 1]\n",
      " [1 1 1 1 2 1]]\n",
      "\n"
     ]
    }
   ],
   "source": [
    "# elementwise sum:\n",
    "\n",
    "print('A + C =\\n{}'.format(A + C), end='\\n\\n')\n",
    "print('B + C =\\n{}'.format(np.add(B, C)), end='\\n\\n')"
   ]
  },
  {
   "cell_type": "code",
   "execution_count": 30,
   "metadata": {},
   "outputs": [
    {
     "name": "stdout",
     "output_type": "stream",
     "text": [
      "A - C =\n",
      "[[-1  1  2  3  4  5]\n",
      " [ 6  6  8  9 10 11]\n",
      " [12 13 13 15 16 17]\n",
      " [18 19 20 20 22 23]\n",
      " [24 25 26 27 27 29]]\n",
      "\n",
      "C - B =\n",
      "[[ 0 -1 -1 -1 -1 -1]\n",
      " [-1  0 -1 -1 -1 -1]\n",
      " [-1 -1  0 -1 -1 -1]\n",
      " [-1 -1 -1  0 -1 -1]\n",
      " [-1 -1 -1 -1  0 -1]]\n",
      "\n"
     ]
    }
   ],
   "source": [
    "# elementwize difference:\n",
    "\n",
    "print('A - C =\\n{}'.format(A - C), end='\\n\\n')\n",
    "print('C - B =\\n{}'.format(np.subtract(C, B)), end='\\n\\n')"
   ]
  },
  {
   "cell_type": "code",
   "execution_count": 31,
   "metadata": {},
   "outputs": [
    {
     "name": "stdout",
     "output_type": "stream",
     "text": [
      "A * C =\n",
      "[[ 0  0  0  0  0  0]\n",
      " [ 0  7  0  0  0  0]\n",
      " [ 0  0 14  0  0  0]\n",
      " [ 0  0  0 21  0  0]\n",
      " [ 0  0  0  0 28  0]]\n",
      "\n",
      "B * C =\n",
      "[[1 0 0 0 0 0]\n",
      " [0 1 0 0 0 0]\n",
      " [0 0 1 0 0 0]\n",
      " [0 0 0 1 0 0]\n",
      " [0 0 0 0 1 0]]\n",
      "\n"
     ]
    }
   ],
   "source": [
    "# elementwize product:\n",
    "\n",
    "print('A * C =\\n{}\\n'.format(A * C))\n",
    "print('B * C =\\n{}\\n'.format(np.multiply(B, C)))"
   ]
  },
  {
   "cell_type": "code",
   "execution_count": 32,
   "metadata": {},
   "outputs": [
    {
     "name": "stdout",
     "output_type": "stream",
     "text": [
      "A // B =\n",
      "[[ 0  1  2  3  4  5]\n",
      " [ 6  7  8  9 10 11]\n",
      " [12 13 14 15 16 17]\n",
      " [18 19 20 21 22 23]\n",
      " [24 25 26 27 28 29]]\n",
      "\n",
      "C // B =\n",
      "[[1 0 0 0 0 0]\n",
      " [0 1 0 0 0 0]\n",
      " [0 0 1 0 0 0]\n",
      " [0 0 0 1 0 0]\n",
      " [0 0 0 0 1 0]]\n",
      "\n"
     ]
    }
   ],
   "source": [
    "# elementwize division (integer):\n",
    "\n",
    "print('A // B =\\n{}\\n'.format(A // B))\n",
    "print('C // B =\\n{}\\n'.format(np.floor_divide(C, B)))\n"
   ]
  },
  {
   "cell_type": "code",
   "execution_count": 33,
   "metadata": {
    "scrolled": false
   },
   "outputs": [
    {
     "name": "stdout",
     "output_type": "stream",
     "text": [
      "X · Y = [[30]]\n",
      "X · Y = [[30]]\n"
     ]
    }
   ],
   "source": [
    "# inner(dot) product of vectors by arr.dot(another_arr):\n",
    "\n",
    "print('X · Y = {}'.format(X.dot(Y.transpose())))\n",
    "\n",
    "# or by np.dot(arr, another_arr):\n",
    "\n",
    "print('X · Y = {}'.format(np.dot(X, Y.T)))\n"
   ]
  },
  {
   "cell_type": "code",
   "execution_count": 34,
   "metadata": {},
   "outputs": [
    {
     "name": "stdout",
     "output_type": "stream",
     "text": [
      "X · Y = [[30]]\n",
      "X · Y = [[30]]\n"
     ]
    }
   ],
   "source": [
    "# Note: for multiplication of higher (more than 2) dimension matrices,\n",
    "# use np.matmul(arr, another_arr) instead:\n",
    "# (or you can alwasy use np.matmul())\n",
    "\n",
    "print('X · Y = {}'.format(np.matmul(X, Y.T)))\n",
    "\n",
    "# and there's a syntactic sugar:\n",
    "\n",
    "print('X · Y = {}'.format(X @ Y.T))\n"
   ]
  },
  {
   "cell_type": "code",
   "execution_count": 35,
   "metadata": {},
   "outputs": [
    {
     "name": "stdout",
     "output_type": "stream",
     "text": [
      "A × Xᵀ =\n",
      "[[ 30]\n",
      " [102]\n",
      " [174]\n",
      " [246]\n",
      " [318]]\n",
      "\n"
     ]
    }
   ],
   "source": [
    "# matrix / vector product:\n",
    "\n",
    "print(u'A × Xᵀ =\\n{}'.format(A @ X.T), end='\\n\\n')"
   ]
  },
  {
   "cell_type": "code",
   "execution_count": 36,
   "metadata": {
    "scrolled": false
   },
   "outputs": [
    {
     "name": "stdout",
     "output_type": "stream",
     "text": [
      "A × B =\n",
      "[[ 15  15  15  15  15]\n",
      " [ 51  51  51  51  51]\n",
      " [ 87  87  87  87  87]\n",
      " [123 123 123 123 123]\n",
      " [159 159 159 159 159]]\n",
      "\n",
      "A × C =\n",
      "[[ 0  1  2  3  4]\n",
      " [ 6  7  8  9 10]\n",
      " [12 13 14 15 16]\n",
      " [18 19 20 21 22]\n",
      " [24 25 26 27 28]]\n",
      "\n"
     ]
    }
   ],
   "source": [
    "# matrix / matrix product:\n",
    "\n",
    "print('A × B =\\n{}'.format(A @ B.T), end='\\n\\n')\n",
    "print('A × C =\\n{}'.format(A @ C.T), end='\\n\\n')"
   ]
  },
  {
   "cell_type": "code",
   "execution_count": 37,
   "metadata": {},
   "outputs": [
    {
     "name": "stdout",
     "output_type": "stream",
     "text": [
      "Sum of all elements in A is 435\n"
     ]
    }
   ],
   "source": [
    "# sum of elements:\n",
    "\n",
    "print('Sum of all elements in A is {}'.format(A.sum()))"
   ]
  },
  {
   "cell_type": "code",
   "execution_count": 38,
   "metadata": {},
   "outputs": [
    {
     "name": "stdout",
     "output_type": "stream",
     "text": [
      "Sums of all elements in each column in A are [60 65 70 75 80 85]\n",
      "Sums of all elements in each raw    in A are [ 15  51  87 123 159]\n"
     ]
    }
   ],
   "source": [
    "# sum of each column & row:\n",
    "\n",
    "print('Sums of all elements in each column in A are {}'.format(A.sum(axis=0)))\n",
    "print('Sums of all elements in each raw    in A are {}'.format(A.sum(axis=1)))"
   ]
  },
  {
   "cell_type": "code",
   "execution_count": 39,
   "metadata": {},
   "outputs": [
    {
     "data": {
      "text/plain": [
       "(7.416198487095663, 5.0, 15.0)"
      ]
     },
     "execution_count": 39,
     "metadata": {},
     "output_type": "execute_result"
    }
   ],
   "source": [
    "# norm of a vector:\n",
    "\n",
    "np.linalg.norm(Y), np.linalg.norm(Y, ord=1), np.linalg.norm(Y, ord=np.inf)"
   ]
  },
  {
   "cell_type": "code",
   "execution_count": 40,
   "metadata": {},
   "outputs": [
    {
     "data": {
      "text/plain": [
       "array([[ 0.67212657,  1.80743355, -2.05872402,  1.68952964],\n",
       "       [ 0.02611449, -1.57194381,  4.70404612, -5.72377589],\n",
       "       [ 3.24066188, -1.46651728, -2.89140064,  4.46079966],\n",
       "       [-2.43978822,  1.05362254,  1.98158063, -1.59098871]])"
      ]
     },
     "execution_count": 40,
     "metadata": {},
     "output_type": "execute_result"
    }
   ],
   "source": [
    "# inversed matrix:\n",
    "\n",
    "np.linalg.inv(np.random.rand(4, 4))"
   ]
  },
  {
   "cell_type": "markdown",
   "metadata": {},
   "source": [
    "For more about manipulating arrays, see [offical documents for mathematical functions in numpy](https://docs.scipy.org/doc/numpy/reference/routines.math.html)."
   ]
  },
  {
   "cell_type": "markdown",
   "metadata": {},
   "source": [
    "## Broadcasting"
   ]
  },
  {
   "cell_type": "markdown",
   "metadata": {},
   "source": [
    "Broadcasting is a powerful mechanism that allows numpy to work with arrays of different shapes when performing arithmetic operations. Frequently we have a smaller array and a larger array, and we want to use the smaller array multiple times to perform some operation on the larger array."
   ]
  },
  {
   "cell_type": "code",
   "execution_count": 41,
   "metadata": {
    "scrolled": true
   },
   "outputs": [
    {
     "name": "stdout",
     "output_type": "stream",
     "text": [
      "Y_ext =\n",
      "[[0 1 2 3 4 5]\n",
      " [0 1 2 3 4 5]\n",
      " [0 1 2 3 4 5]\n",
      " [0 1 2 3 4 5]\n",
      " [0 1 2 3 4 5]]\n",
      "\n",
      "Y_ext + A =\n",
      "[[ 0  2  4  6  8 10]\n",
      " [ 6  8 10 12 14 16]\n",
      " [12 14 16 18 20 22]\n",
      " [18 20 22 24 26 28]\n",
      " [24 26 28 30 32 34]]\n",
      "\n"
     ]
    }
   ],
   "source": [
    "# extend vector Y by m rows:\n",
    "\n",
    "print('Y_ext =\\n{}'.format( \n",
    "    np.tile(Y, (M, 1)) \n",
    "                            ), end='\\n\\n')\n",
    "\n",
    "# then, we can add extended vector Y and matrix A elementwise:\n",
    "\n",
    "print('Y_ext + A =\\n{}'.format( \n",
    "    np.tile(Y, (M, 1)) + A \n",
    "                            ), end='\\n\\n')"
   ]
  },
  {
   "cell_type": "code",
   "execution_count": 42,
   "metadata": {},
   "outputs": [
    {
     "name": "stdout",
     "output_type": "stream",
     "text": [
      "Y + A =\n",
      "[[ 0  2  4  6  8 10]\n",
      " [ 6  8 10 12 14 16]\n",
      " [12 14 16 18 20 22]\n",
      " [18 20 22 24 26 28]\n",
      " [24 26 28 30 32 34]]\n",
      "\n"
     ]
    }
   ],
   "source": [
    "# alternatively, numpy allows us do the addition \n",
    "# between vector and matrix elementwise\n",
    "# without doing actual vector extention:\n",
    "\n",
    "print('Y + A =\\n{}'.format(\n",
    "    Y + A\n",
    "                        ), end='\\n\\n')"
   ]
  },
  {
   "cell_type": "markdown",
   "metadata": {},
   "source": [
    "### Some applications of broadcasting"
   ]
  },
  {
   "cell_type": "code",
   "execution_count": 43,
   "metadata": {},
   "outputs": [
    {
     "name": "stdout",
     "output_type": "stream",
     "text": [
      "X × Y =\n",
      "[[ 0  2  4  6  8 10]\n",
      " [ 0  2  4  6  8 10]\n",
      " [ 0  2  4  6  8 10]\n",
      " [ 0  2  4  6  8 10]\n",
      " [ 0  2  4  6  8 10]\n",
      " [ 0  2  4  6  8 10]]\n",
      "\n"
     ]
    }
   ],
   "source": [
    "# compute outer product of vectors X and Y:\n",
    "\n",
    "print('X × Y =\\n{}'.format(\n",
    "    X.reshape((6, 1)) * Y\n",
    "                        ), end='\\n\\n')"
   ]
  },
  {
   "cell_type": "code",
   "execution_count": 44,
   "metadata": {},
   "outputs": [
    {
     "name": "stdout",
     "output_type": "stream",
     "text": [
      "Y + A =\n",
      "[[ 0  2  4  6  8 10]\n",
      " [ 6  8 10 12 14 16]\n",
      " [12 14 16 18 20 22]\n",
      " [18 20 22 24 26 28]\n",
      " [24 26 28 30 32 34]]\n",
      "\n"
     ]
    }
   ],
   "source": [
    "# add a vector Y to each row of a matrix A:\n",
    "\n",
    "print('Y + A =\\n{}'.format(\n",
    "    Y + A\n",
    "                        ), end='\\n\\n')\n"
   ]
  },
  {
   "cell_type": "code",
   "execution_count": 45,
   "metadata": {},
   "outputs": [
    {
     "name": "stdout",
     "output_type": "stream",
     "text": [
      "Yᵀ + A =\n",
      "[[ 0  1  2  3  4  5]\n",
      " [ 7  8  9 10 11 12]\n",
      " [14 15 16 17 18 19]\n",
      " [21 22 23 24 25 26]\n",
      " [28 29 30 31 32 33]]\n",
      "\n",
      "Yᵀ + A =\n",
      "[[ 0  1  2  3  4  5]\n",
      " [ 7  8  9 10 11 12]\n",
      " [14 15 16 17 18 19]\n",
      " [21 22 23 24 25 26]\n",
      " [28 29 30 31 32 33]]\n",
      "\n"
     ]
    }
   ],
   "source": [
    "# add a vector Y[:5] to each column of a matrix A:\n",
    "\n",
    "print('Yᵀ + A =\\n{}'.format(\n",
    "    (Y[0, :5] + A.T).T\n",
    "                        ), end='\\n\\n')\n",
    "\n",
    "# or:\n",
    "\n",
    "print('Yᵀ + A =\\n{}'.format(\n",
    "    (Y.T[:5] + A)\n",
    "                        ), end='\\n\\n')"
   ]
  },
  {
   "cell_type": "markdown",
   "metadata": {},
   "source": [
    "**Note:** broadcasting typically make code **more concise and faster**, strive to use it when possible!\n",
    "\n",
    "For more information about broadcasting, see explanation from [this document](http://docs.scipy.org/doc/numpy/user/basics.broadcasting.html) and [this expanation](http://wiki.scipy.org/EricsBroadcastingDoc)"
   ]
  },
  {
   "cell_type": "markdown",
   "metadata": {},
   "source": [
    "## End"
   ]
  },
  {
   "cell_type": "markdown",
   "metadata": {},
   "source": [
    "This brief notebook has touched many of the important things that should be known in numpy for deep learning. However, it is far from complete. Often we should to check out [numpy reference](http://docs.scipy.org/doc/numpy/reference/) for more features we need."
   ]
  }
 ],
 "metadata": {
  "kernelspec": {
   "display_name": "Python 3",
   "language": "python",
   "name": "python3"
  },
  "language_info": {
   "codemirror_mode": {
    "name": "ipython",
    "version": 3
   },
   "file_extension": ".py",
   "mimetype": "text/x-python",
   "name": "python",
   "nbconvert_exporter": "python",
   "pygments_lexer": "ipython3",
   "version": "3.6.4"
  }
 },
 "nbformat": 4,
 "nbformat_minor": 2
}
